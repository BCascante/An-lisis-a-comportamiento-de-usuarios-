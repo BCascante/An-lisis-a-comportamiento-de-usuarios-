{
 "cells": [
  {
   "cell_type": "markdown",
   "metadata": {},
   "source": [
    "# Descripción del Proyecto \n",
    "Trabajas en una empresa emergente que vende productos alimenticios. Debes investigar el comportamiento del usuario para la aplicación de la empresa.\n",
    "\n",
    "Primero, estudia el embudo de ventas. Descubre cómo los usuarios y las usuarias llegan a la etapa de compra. ¿Cuántos usuarios o usuarias realmente llegan a esta etapa? ¿Cuántos se atascan en etapas anteriores? ¿Qué etapas en particular?\n",
    "\n",
    "Luego, observa los resultados de un test A/A/B. (Sigue leyendo para obtener más información sobre los test A/A/B). Al equipo de diseño le gustaría cambiar las fuentes de toda la aplicación, pero la gerencia teme que los usuarios y las usuarias piensen que el nuevo diseño es intimidante. Por ello, deciden tomar una decisión basada en los resultados de un test A/A/B.\n",
    "\n",
    "Los usuarios se dividen en tres grupos: dos grupos de control obtienen las fuentes antiguas y un grupo de prueba obtiene las nuevas. Descubre qué conjunto de fuentes produce mejores resultados."
   ]
  },
  {
   "cell_type": "markdown",
   "metadata": {},
   "source": [
    "# Análisis a realizar \n",
    "## Estudiar y comprobar los datos\n",
    "\n",
    "- ¿Cuántos eventos hay en los registros?\n",
    "- ¿Cuántos usuarios y usuarias hay en los registros?\n",
    "- ¿Cuál es el promedio de eventos por usuario?\n",
    "- ¿Qué periodo de tiempo cubren los datos? Encuentra la fecha máxima y mínima. Traza un histograma por fecha y hora. ¿Puedes tener seguridad de que tienes datos igualmente completos para todo el periodo? Los eventos más antiguos podrían terminar en los registros de algunos usuarios o usuarias por razones técnicas y esto podría sesgar el panorama general. Encuentra el momento en el que los datos comienzan a estar completos e ignora la sección anterior. ¿Qué periodo representan realmente los datos?\n",
    "- ¿Perdiste muchos eventos y usuarios al excluir los datos más antiguos?\n",
    "- Asegúrate de tener usuarios y usuarias de los tres grupos experimentales.\n",
    "\n",
    "## Estudiar el embudo de eventos\n",
    "\n",
    "- Observa qué eventos hay en los registros y su frecuencia de suceso. Ordénalos por frecuencia.\n",
    "- Encuentra la cantidad de usuarios y usuarias que realizaron cada una de estas acciones. Ordena los eventos por el número de usuarios y usuarias. Calcula la proporción de usuarios y usuarias que realizaron la acción al menos una vez.\n",
    "- ¿En qué orden crees que ocurrieron las acciones? ¿Todas son parte de una sola secuencia? No es necesario tenerlas en cuenta al calcular el embudo.\n",
    "- Utiliza el embudo de eventos para encontrar la proporción de usuarios y usuarias que pasan de una etapa a la siguiente. (Por ejemplo, para la secuencia de eventos A → B → C, calcula la proporción de usuarios en la etapa B a la cantidad de usuarios en la etapa A y la proporción de usuarios en la etapa C a la cantidad en la etapa B).\n",
    "- ¿En qué etapa pierdes más usuarios y usuarias?\n",
    "- ¿Qué porcentaje de usuarios y usuarias hace todo el viaje desde su primer evento hasta el pago?\n",
    "\n",
    "## Estudiar los resultados del experimento\n",
    "\n",
    "- ¿Cuántos usuarios y usuarias hay en cada grupo?\n",
    "- Tenemos dos grupos de control en el test A/A, donde comprobamos nuestros mecanismos y cálculos. Observa si hay una diferencia estadísticamente significativa entre las muestras 246 y 247.\n",
    "- Selecciona el evento más popular. En cada uno de los grupos de control, encuentra la cantidad de usuarios y usuarias que realizaron esta acción. Encuentra su proporción. Comprueba si la diferencia entre los grupos es estadísticamente significativa. Repite el procedimiento para todos los demás eventos (ahorrarás tiempo si creas una función especial para esta prueba). ¿Puedes confirmar que los grupos se dividieron correctamente?\n",
    "- Haz lo mismo para el grupo con fuentes alteradas. Compara los resultados con los de cada uno de los grupos de control para cada evento de forma aislada. Compara los resultados con los resultados combinados de los grupos de control. ¿Qué conclusiones puedes sacar del experimento?"
   ]
  },
  {
   "cell_type": "markdown",
   "metadata": {},
   "source": [
    "# Importar librerías \n"
   ]
  },
  {
   "cell_type": "code",
   "execution_count": 1,
   "metadata": {},
   "outputs": [],
   "source": [
    "# Librerías para la manipulación de datos \n",
    "import pandas as pd \n",
    "import numpy as np \n",
    "import math\n",
    "from datetime import datetime as dt\n",
    "# Librería para análisis estadístico \n",
    "from scipy import stats as st \n",
    "# Librerías para la visualización de datos \n",
    "import matplotlib.pyplot as plt \n",
    "import seaborn as sns \n",
    "import plotly_express as px \n",
    "import plotly.graph_objects as go"
   ]
  },
  {
   "cell_type": "markdown",
   "metadata": {},
   "source": [
    "# Importar dataset \n",
    "## Descripción de los datos\n",
    "\n",
    "Cada entrada de registro es una acción de usuario o un evento.\n",
    "\n",
    "- `EventName`: nombre del evento.\n",
    "- `DeviceIDHash`: identificador de usuario unívoco.\n",
    "- `EventTimestamp`: hora del evento.\n",
    "- `ExpId`: número de experimento: 246 y 247 son los grupos de control, 248 es el grupo de prueba."
   ]
  },
  {
   "cell_type": "code",
   "execution_count": 2,
   "metadata": {},
   "outputs": [],
   "source": [
    "events = pd.read_csv('logs_exp_us.csv', dtype=({'ExpId':'category','EventName':'category','DeviceIDHash':'str'}), sep='\\t')"
   ]
  },
  {
   "cell_type": "markdown",
   "metadata": {},
   "source": [
    "# Preprocesamiento de datos "
   ]
  },
  {
   "cell_type": "code",
   "execution_count": 3,
   "metadata": {},
   "outputs": [
    {
     "name": "stdout",
     "output_type": "stream",
     "text": [
      "<class 'pandas.core.frame.DataFrame'>\n",
      "RangeIndex: 244126 entries, 0 to 244125\n",
      "Data columns (total 4 columns):\n",
      " #   Column          Non-Null Count   Dtype   \n",
      "---  ------          --------------   -----   \n",
      " 0   EventName       244126 non-null  category\n",
      " 1   DeviceIDHash    244126 non-null  object  \n",
      " 2   EventTimestamp  244126 non-null  int64   \n",
      " 3   ExpId           244126 non-null  category\n",
      "dtypes: category(2), int64(1), object(1)\n",
      "memory usage: 4.2+ MB\n"
     ]
    }
   ],
   "source": [
    "# Ver la información general del df\n",
    "events.info()"
   ]
  },
  {
   "cell_type": "markdown",
   "metadata": {},
   "source": [
    "No se ven problemas mayores con el df, no hay valores ausentes, pero sería útil cambiar el nombre de las columnas para que sean mas convenientes y también se tendría que pasar los datos de la columna 'EventTimestamp' a tipo datetime ya que describe la hora del evento."
   ]
  },
  {
   "cell_type": "code",
   "execution_count": 4,
   "metadata": {},
   "outputs": [
    {
     "data": {
      "text/html": [
       "<div>\n",
       "<style scoped>\n",
       "    .dataframe tbody tr th:only-of-type {\n",
       "        vertical-align: middle;\n",
       "    }\n",
       "\n",
       "    .dataframe tbody tr th {\n",
       "        vertical-align: top;\n",
       "    }\n",
       "\n",
       "    .dataframe thead th {\n",
       "        text-align: right;\n",
       "    }\n",
       "</style>\n",
       "<table border=\"1\" class=\"dataframe\">\n",
       "  <thead>\n",
       "    <tr style=\"text-align: right;\">\n",
       "      <th></th>\n",
       "      <th>event_name</th>\n",
       "      <th>user_id</th>\n",
       "      <th>event_time</th>\n",
       "      <th>group</th>\n",
       "    </tr>\n",
       "  </thead>\n",
       "  <tbody>\n",
       "    <tr>\n",
       "      <th>0</th>\n",
       "      <td>MainScreenAppear</td>\n",
       "      <td>4575588528974610257</td>\n",
       "      <td>1564029816</td>\n",
       "      <td>246</td>\n",
       "    </tr>\n",
       "    <tr>\n",
       "      <th>1</th>\n",
       "      <td>MainScreenAppear</td>\n",
       "      <td>7416695313311560658</td>\n",
       "      <td>1564053102</td>\n",
       "      <td>246</td>\n",
       "    </tr>\n",
       "    <tr>\n",
       "      <th>2</th>\n",
       "      <td>PaymentScreenSuccessful</td>\n",
       "      <td>3518123091307005509</td>\n",
       "      <td>1564054127</td>\n",
       "      <td>248</td>\n",
       "    </tr>\n",
       "    <tr>\n",
       "      <th>3</th>\n",
       "      <td>CartScreenAppear</td>\n",
       "      <td>3518123091307005509</td>\n",
       "      <td>1564054127</td>\n",
       "      <td>248</td>\n",
       "    </tr>\n",
       "    <tr>\n",
       "      <th>4</th>\n",
       "      <td>PaymentScreenSuccessful</td>\n",
       "      <td>6217807653094995999</td>\n",
       "      <td>1564055322</td>\n",
       "      <td>248</td>\n",
       "    </tr>\n",
       "  </tbody>\n",
       "</table>\n",
       "</div>"
      ],
      "text/plain": [
       "                event_name              user_id  event_time group\n",
       "0         MainScreenAppear  4575588528974610257  1564029816   246\n",
       "1         MainScreenAppear  7416695313311560658  1564053102   246\n",
       "2  PaymentScreenSuccessful  3518123091307005509  1564054127   248\n",
       "3         CartScreenAppear  3518123091307005509  1564054127   248\n",
       "4  PaymentScreenSuccessful  6217807653094995999  1564055322   248"
      ]
     },
     "execution_count": 4,
     "metadata": {},
     "output_type": "execute_result"
    }
   ],
   "source": [
    "# Cambiar el nombre de las columnas \n",
    "events.columns = ['event_name', 'user_id', 'event_time', 'group']\n",
    "# Mostrar cambio en las columnas \n",
    "events.head()"
   ]
  },
  {
   "cell_type": "code",
   "execution_count": 5,
   "metadata": {},
   "outputs": [
    {
     "name": "stdout",
     "output_type": "stream",
     "text": [
      "Hay valores duplicados\n"
     ]
    }
   ],
   "source": [
    "# Verificar duplicados \n",
    "duplicates = events.duplicated().any()\n",
    "\n",
    "if duplicates:\n",
    "    print('Hay valores duplicados')\n",
    "else:\n",
    "    print('No hay valores duplicados')"
   ]
  },
  {
   "cell_type": "markdown",
   "metadata": {},
   "source": [
    "El df si tiene valores duplicados, en este caso eso valores se descartarán "
   ]
  },
  {
   "cell_type": "code",
   "execution_count": 6,
   "metadata": {},
   "outputs": [],
   "source": [
    "# Eliminar valores duplicados del DataFrame \n",
    "events.drop_duplicates(inplace=True)"
   ]
  },
  {
   "cell_type": "code",
   "execution_count": 7,
   "metadata": {},
   "outputs": [
    {
     "data": {
      "text/html": [
       "<div>\n",
       "<style scoped>\n",
       "    .dataframe tbody tr th:only-of-type {\n",
       "        vertical-align: middle;\n",
       "    }\n",
       "\n",
       "    .dataframe tbody tr th {\n",
       "        vertical-align: top;\n",
       "    }\n",
       "\n",
       "    .dataframe thead th {\n",
       "        text-align: right;\n",
       "    }\n",
       "</style>\n",
       "<table border=\"1\" class=\"dataframe\">\n",
       "  <thead>\n",
       "    <tr style=\"text-align: right;\">\n",
       "      <th></th>\n",
       "      <th>event_name</th>\n",
       "      <th>user_id</th>\n",
       "      <th>event_time</th>\n",
       "      <th>group</th>\n",
       "      <th>event_datetime</th>\n",
       "      <th>event_date</th>\n",
       "    </tr>\n",
       "  </thead>\n",
       "  <tbody>\n",
       "    <tr>\n",
       "      <th>0</th>\n",
       "      <td>MainScreenAppear</td>\n",
       "      <td>4575588528974610257</td>\n",
       "      <td>1564029816</td>\n",
       "      <td>246</td>\n",
       "      <td>2019-07-25 04:43:36</td>\n",
       "      <td>2019-07-25</td>\n",
       "    </tr>\n",
       "    <tr>\n",
       "      <th>1</th>\n",
       "      <td>MainScreenAppear</td>\n",
       "      <td>7416695313311560658</td>\n",
       "      <td>1564053102</td>\n",
       "      <td>246</td>\n",
       "      <td>2019-07-25 11:11:42</td>\n",
       "      <td>2019-07-25</td>\n",
       "    </tr>\n",
       "    <tr>\n",
       "      <th>2</th>\n",
       "      <td>PaymentScreenSuccessful</td>\n",
       "      <td>3518123091307005509</td>\n",
       "      <td>1564054127</td>\n",
       "      <td>248</td>\n",
       "      <td>2019-07-25 11:28:47</td>\n",
       "      <td>2019-07-25</td>\n",
       "    </tr>\n",
       "    <tr>\n",
       "      <th>3</th>\n",
       "      <td>CartScreenAppear</td>\n",
       "      <td>3518123091307005509</td>\n",
       "      <td>1564054127</td>\n",
       "      <td>248</td>\n",
       "      <td>2019-07-25 11:28:47</td>\n",
       "      <td>2019-07-25</td>\n",
       "    </tr>\n",
       "    <tr>\n",
       "      <th>4</th>\n",
       "      <td>PaymentScreenSuccessful</td>\n",
       "      <td>6217807653094995999</td>\n",
       "      <td>1564055322</td>\n",
       "      <td>248</td>\n",
       "      <td>2019-07-25 11:48:42</td>\n",
       "      <td>2019-07-25</td>\n",
       "    </tr>\n",
       "    <tr>\n",
       "      <th>...</th>\n",
       "      <td>...</td>\n",
       "      <td>...</td>\n",
       "      <td>...</td>\n",
       "      <td>...</td>\n",
       "      <td>...</td>\n",
       "      <td>...</td>\n",
       "    </tr>\n",
       "    <tr>\n",
       "      <th>244121</th>\n",
       "      <td>MainScreenAppear</td>\n",
       "      <td>4599628364049201812</td>\n",
       "      <td>1565212345</td>\n",
       "      <td>247</td>\n",
       "      <td>2019-08-07 21:12:25</td>\n",
       "      <td>2019-08-07</td>\n",
       "    </tr>\n",
       "    <tr>\n",
       "      <th>244122</th>\n",
       "      <td>MainScreenAppear</td>\n",
       "      <td>5849806612437486590</td>\n",
       "      <td>1565212439</td>\n",
       "      <td>246</td>\n",
       "      <td>2019-08-07 21:13:59</td>\n",
       "      <td>2019-08-07</td>\n",
       "    </tr>\n",
       "    <tr>\n",
       "      <th>244123</th>\n",
       "      <td>MainScreenAppear</td>\n",
       "      <td>5746969938801999050</td>\n",
       "      <td>1565212483</td>\n",
       "      <td>246</td>\n",
       "      <td>2019-08-07 21:14:43</td>\n",
       "      <td>2019-08-07</td>\n",
       "    </tr>\n",
       "    <tr>\n",
       "      <th>244124</th>\n",
       "      <td>MainScreenAppear</td>\n",
       "      <td>5746969938801999050</td>\n",
       "      <td>1565212498</td>\n",
       "      <td>246</td>\n",
       "      <td>2019-08-07 21:14:58</td>\n",
       "      <td>2019-08-07</td>\n",
       "    </tr>\n",
       "    <tr>\n",
       "      <th>244125</th>\n",
       "      <td>OffersScreenAppear</td>\n",
       "      <td>5746969938801999050</td>\n",
       "      <td>1565212517</td>\n",
       "      <td>246</td>\n",
       "      <td>2019-08-07 21:15:17</td>\n",
       "      <td>2019-08-07</td>\n",
       "    </tr>\n",
       "  </tbody>\n",
       "</table>\n",
       "<p>243713 rows × 6 columns</p>\n",
       "</div>"
      ],
      "text/plain": [
       "                     event_name              user_id  event_time group  \\\n",
       "0              MainScreenAppear  4575588528974610257  1564029816   246   \n",
       "1              MainScreenAppear  7416695313311560658  1564053102   246   \n",
       "2       PaymentScreenSuccessful  3518123091307005509  1564054127   248   \n",
       "3              CartScreenAppear  3518123091307005509  1564054127   248   \n",
       "4       PaymentScreenSuccessful  6217807653094995999  1564055322   248   \n",
       "...                         ...                  ...         ...   ...   \n",
       "244121         MainScreenAppear  4599628364049201812  1565212345   247   \n",
       "244122         MainScreenAppear  5849806612437486590  1565212439   246   \n",
       "244123         MainScreenAppear  5746969938801999050  1565212483   246   \n",
       "244124         MainScreenAppear  5746969938801999050  1565212498   246   \n",
       "244125       OffersScreenAppear  5746969938801999050  1565212517   246   \n",
       "\n",
       "            event_datetime  event_date  \n",
       "0      2019-07-25 04:43:36  2019-07-25  \n",
       "1      2019-07-25 11:11:42  2019-07-25  \n",
       "2      2019-07-25 11:28:47  2019-07-25  \n",
       "3      2019-07-25 11:28:47  2019-07-25  \n",
       "4      2019-07-25 11:48:42  2019-07-25  \n",
       "...                    ...         ...  \n",
       "244121 2019-08-07 21:12:25  2019-08-07  \n",
       "244122 2019-08-07 21:13:59  2019-08-07  \n",
       "244123 2019-08-07 21:14:43  2019-08-07  \n",
       "244124 2019-08-07 21:14:58  2019-08-07  \n",
       "244125 2019-08-07 21:15:17  2019-08-07  \n",
       "\n",
       "[243713 rows x 6 columns]"
      ]
     },
     "execution_count": 7,
     "metadata": {},
     "output_type": "execute_result"
    }
   ],
   "source": [
    "# Convertir la columna 'event_time' a formato de fecha y hora\n",
    "events['event_datetime'] = pd.to_datetime(events['event_time'], unit='s')\n",
    "\n",
    "# Crear una columna separada para las fechas\n",
    "events['event_date'] = events['event_datetime'].dt.date\n",
    "\n",
    "# Mostrar el DataFrame con las nuevas columnas\n",
    "events"
   ]
  },
  {
   "cell_type": "markdown",
   "metadata": {},
   "source": [
    "# Estudiar y comprobar los datos "
   ]
  },
  {
   "cell_type": "markdown",
   "metadata": {},
   "source": [
    "## ¿Cuántos eventos hay en los registros?"
   ]
  },
  {
   "cell_type": "code",
   "execution_count": 8,
   "metadata": {},
   "outputs": [
    {
     "name": "stdout",
     "output_type": "stream",
     "text": [
      "Hay un total de 243713 eventos registrados\n"
     ]
    }
   ],
   "source": [
    "# Calcular el total de eventos registrados usando .count()\n",
    "total_events = events['event_name'].count()\n",
    "print(f'Hay un total de {total_events} eventos registrados')"
   ]
  },
  {
   "cell_type": "markdown",
   "metadata": {},
   "source": [
    "## ¿Cuántos usuarios y usuarias hay en los registros?"
   ]
  },
  {
   "cell_type": "code",
   "execution_count": 9,
   "metadata": {},
   "outputs": [
    {
     "name": "stdout",
     "output_type": "stream",
     "text": [
      "Hay un total de 7551 usuarios y usuarias registradas\n"
     ]
    }
   ],
   "source": [
    "# Calcular la cantidad de usuari@s únicos que están registrados\n",
    "total_users = events['user_id'].nunique()\n",
    "print(f'Hay un total de {total_users} usuarios y usuarias registradas')"
   ]
  },
  {
   "cell_type": "markdown",
   "metadata": {},
   "source": [
    "## ¿Cuál es el promedio de eventos por usuario?\n"
   ]
  },
  {
   "cell_type": "code",
   "execution_count": 10,
   "metadata": {},
   "outputs": [
    {
     "name": "stdout",
     "output_type": "stream",
     "text": [
      "Se registra un promedio de 32 eventos por usuario\n"
     ]
    }
   ],
   "source": [
    "# Calcular el promedio de eventos por usuario dividiendo el total de usuarios entre el total de usuari@s\n",
    "mean_events_per_user = total_events / total_users\n",
    "print(f'Se registra un promedio de {mean_events_per_user.__round__()} eventos por usuario')"
   ]
  },
  {
   "cell_type": "markdown",
   "metadata": {},
   "source": [
    "## ¿Qué período de tiempo cubren los datos?\n"
   ]
  },
  {
   "cell_type": "code",
   "execution_count": 11,
   "metadata": {},
   "outputs": [
    {
     "name": "stdout",
     "output_type": "stream",
     "text": [
      "El período de tiempo que cubren los datos va de: 2019-07-25 hasta: 2019-08-07\n"
     ]
    }
   ],
   "source": [
    "# Encontrar la fecha máxima y mínima \n",
    "min_date = events['event_date'].min()\n",
    "max_date = events['event_date'].max()\n",
    "print(f'El período de tiempo que cubren los datos va de: {min_date} hasta: {max_date}')"
   ]
  },
  {
   "cell_type": "markdown",
   "metadata": {},
   "source": [
    "Luego de sacar el período de tiempo que cubren los datos surgen distintas preguntas, entre ellas está: \n",
    "\n",
    "¿Puedes tener seguridad de que tienes datos igualmente completos para todo el periodo?: Para esto lo mejor sería crear un histograma que muestre la distribución de los datos.\n",
    "\n",
    "Otra cosa que puede siceder es que los eventos más antiguos podrían terminar en los registros de algunos usuarios o usuarias por razones técnicas y esto podría sesgar el panorama general. Lo mejor en este caso es encontrar el momento en el que los datos comienzan a estar completos para así poder ignorar la sección anterior.\n"
   ]
  },
  {
   "cell_type": "code",
   "execution_count": 12,
   "metadata": {},
   "outputs": [
    {
     "data": {
      "image/png": "[encoded data removed]",
      "text/plain": [
       "<Figure size 1500x500 with 1 Axes>"
      ]
     },
     "metadata": {},
     "output_type": "display_data"
    }
   ],
   "source": [
    "# Comenzar a crear el histograma \n",
    "\n",
    "# Ajustar el tamaño del histograma \n",
    "plt.figure(figsize=(15, 5))\n",
    "\n",
    "# Crear histograma por fecha y hora\n",
    "sns.histplot(events['event_datetime'], bins=20, color='black')\n",
    "# Añadir título\n",
    "plt.title('Distribución de eventos a lo largo del tiempo')\n",
    "# Añadir un título a ambos ejes\n",
    "plt.xlabel('Fecha')\n",
    "plt.ylabel('Frecuencia')\n",
    "plt.xticks(rotation=45)\n",
    "plt.grid(True)\n",
    "plt.show()"
   ]
  },
  {
   "cell_type": "markdown",
   "metadata": {},
   "source": [
    "Gracias al histograma podemos ver que no existe una dsitribución normal a lo largo del período, vemos que básicamente no existen eventos registrados en la parte izq del gráfico cuando la comparamos con la derecha, también observamos que la diferencia comienza a partir del 1ro de Agosto, por lo que se verán con más detalles las últimas semanas de Julio y las primeras de Agosto.\n",
    "\n",
    "Todo esto genera una pregunta más: ¿Qué periodo representan realmente los datos?\n",
    "\n",
    "Para contestar esto usaremos el estudio más detallado de las semanas anteriormente mencionadas."
   ]
  },
  {
   "cell_type": "markdown",
   "metadata": {},
   "source": [
    "## ¿Qué período representan realmente los datos?"
   ]
  },
  {
   "cell_type": "code",
   "execution_count": 13,
   "metadata": {},
   "outputs": [
    {
     "name": "stdout",
     "output_type": "stream",
     "text": [
      "event_date\n",
      "2019-07-31    2030\n",
      "2019-07-30     412\n",
      "2019-07-29     184\n",
      "2019-07-28     105\n",
      "2019-07-27      55\n",
      "2019-07-26      31\n",
      "2019-07-25       9\n",
      "Name: count, dtype: int64 \n",
      " \n",
      " event_date\n",
      "2019-08-01    36141\n",
      "2019-08-05    36058\n",
      "2019-08-06    35788\n",
      "2019-08-02    35554\n",
      "2019-08-03    33282\n",
      "2019-08-04    32968\n",
      "2019-08-07    31096\n",
      "Name: count, dtype: int64\n"
     ]
    }
   ],
   "source": [
    "# Contar eventos en los días de las últimas semanas de Julio\n",
    "jly_last_week_events = events[events['event_datetime'] <= '2019-07-31 23:59:59']['event_date'].value_counts()\n",
    "# Contar los eventos en los días de la primera semana de Agosto \n",
    "agst_first_week_events = events[events['event_datetime'] > '2019-07-31 23:59:59']['event_date'].value_counts()\n",
    "# Mostrar resultados \n",
    "print(jly_last_week_events,'\\n','\\n', agst_first_week_events)"
   ]
  },
  {
   "cell_type": "markdown",
   "metadata": {},
   "source": [
    "Con los resultados obtenidos se puede observar que hay una gran diferencia en la cantidad de eventos registrados la última semana de Julio y la primera de Agosto, en cuanto a la pregunta de ¿Qué periodo representan realmente los datos? se puede concluir que representan realmente la primera semana de Agosto, ya que esta elección cumple con una condición anterior que era encontrar el momento en el que los datos comienzan a estar completos para ignorar lo anterior y es que también se puede observar que durante esta primera semana de Agosto ningún día baja de los 30,000 eventos registrados."
   ]
  },
  {
   "cell_type": "code",
   "execution_count": 14,
   "metadata": {},
   "outputs": [
    {
     "data": {
      "text/html": [
       "<div>\n",
       "<style scoped>\n",
       "    .dataframe tbody tr th:only-of-type {\n",
       "        vertical-align: middle;\n",
       "    }\n",
       "\n",
       "    .dataframe tbody tr th {\n",
       "        vertical-align: top;\n",
       "    }\n",
       "\n",
       "    .dataframe thead th {\n",
       "        text-align: right;\n",
       "    }\n",
       "</style>\n",
       "<table border=\"1\" class=\"dataframe\">\n",
       "  <thead>\n",
       "    <tr style=\"text-align: right;\">\n",
       "      <th></th>\n",
       "      <th>event_name</th>\n",
       "      <th>user_id</th>\n",
       "      <th>event_time</th>\n",
       "      <th>group</th>\n",
       "      <th>event_datetime</th>\n",
       "      <th>event_date</th>\n",
       "    </tr>\n",
       "  </thead>\n",
       "  <tbody>\n",
       "    <tr>\n",
       "      <th>2828</th>\n",
       "      <td>Tutorial</td>\n",
       "      <td>3737462046622621720</td>\n",
       "      <td>1564618048</td>\n",
       "      <td>246</td>\n",
       "      <td>2019-08-01 00:07:28</td>\n",
       "      <td>2019-08-01</td>\n",
       "    </tr>\n",
       "    <tr>\n",
       "      <th>2829</th>\n",
       "      <td>MainScreenAppear</td>\n",
       "      <td>3737462046622621720</td>\n",
       "      <td>1564618080</td>\n",
       "      <td>246</td>\n",
       "      <td>2019-08-01 00:08:00</td>\n",
       "      <td>2019-08-01</td>\n",
       "    </tr>\n",
       "    <tr>\n",
       "      <th>2830</th>\n",
       "      <td>MainScreenAppear</td>\n",
       "      <td>3737462046622621720</td>\n",
       "      <td>1564618135</td>\n",
       "      <td>246</td>\n",
       "      <td>2019-08-01 00:08:55</td>\n",
       "      <td>2019-08-01</td>\n",
       "    </tr>\n",
       "    <tr>\n",
       "      <th>2831</th>\n",
       "      <td>OffersScreenAppear</td>\n",
       "      <td>3737462046622621720</td>\n",
       "      <td>1564618138</td>\n",
       "      <td>246</td>\n",
       "      <td>2019-08-01 00:08:58</td>\n",
       "      <td>2019-08-01</td>\n",
       "    </tr>\n",
       "    <tr>\n",
       "      <th>2832</th>\n",
       "      <td>MainScreenAppear</td>\n",
       "      <td>1433840883824088890</td>\n",
       "      <td>1564618139</td>\n",
       "      <td>247</td>\n",
       "      <td>2019-08-01 00:08:59</td>\n",
       "      <td>2019-08-01</td>\n",
       "    </tr>\n",
       "    <tr>\n",
       "      <th>...</th>\n",
       "      <td>...</td>\n",
       "      <td>...</td>\n",
       "      <td>...</td>\n",
       "      <td>...</td>\n",
       "      <td>...</td>\n",
       "      <td>...</td>\n",
       "    </tr>\n",
       "    <tr>\n",
       "      <th>244121</th>\n",
       "      <td>MainScreenAppear</td>\n",
       "      <td>4599628364049201812</td>\n",
       "      <td>1565212345</td>\n",
       "      <td>247</td>\n",
       "      <td>2019-08-07 21:12:25</td>\n",
       "      <td>2019-08-07</td>\n",
       "    </tr>\n",
       "    <tr>\n",
       "      <th>244122</th>\n",
       "      <td>MainScreenAppear</td>\n",
       "      <td>5849806612437486590</td>\n",
       "      <td>1565212439</td>\n",
       "      <td>246</td>\n",
       "      <td>2019-08-07 21:13:59</td>\n",
       "      <td>2019-08-07</td>\n",
       "    </tr>\n",
       "    <tr>\n",
       "      <th>244123</th>\n",
       "      <td>MainScreenAppear</td>\n",
       "      <td>5746969938801999050</td>\n",
       "      <td>1565212483</td>\n",
       "      <td>246</td>\n",
       "      <td>2019-08-07 21:14:43</td>\n",
       "      <td>2019-08-07</td>\n",
       "    </tr>\n",
       "    <tr>\n",
       "      <th>244124</th>\n",
       "      <td>MainScreenAppear</td>\n",
       "      <td>5746969938801999050</td>\n",
       "      <td>1565212498</td>\n",
       "      <td>246</td>\n",
       "      <td>2019-08-07 21:14:58</td>\n",
       "      <td>2019-08-07</td>\n",
       "    </tr>\n",
       "    <tr>\n",
       "      <th>244125</th>\n",
       "      <td>OffersScreenAppear</td>\n",
       "      <td>5746969938801999050</td>\n",
       "      <td>1565212517</td>\n",
       "      <td>246</td>\n",
       "      <td>2019-08-07 21:15:17</td>\n",
       "      <td>2019-08-07</td>\n",
       "    </tr>\n",
       "  </tbody>\n",
       "</table>\n",
       "<p>240887 rows × 6 columns</p>\n",
       "</div>"
      ],
      "text/plain": [
       "                event_name              user_id  event_time group  \\\n",
       "2828              Tutorial  3737462046622621720  1564618048   246   \n",
       "2829      MainScreenAppear  3737462046622621720  1564618080   246   \n",
       "2830      MainScreenAppear  3737462046622621720  1564618135   246   \n",
       "2831    OffersScreenAppear  3737462046622621720  1564618138   246   \n",
       "2832      MainScreenAppear  1433840883824088890  1564618139   247   \n",
       "...                    ...                  ...         ...   ...   \n",
       "244121    MainScreenAppear  4599628364049201812  1565212345   247   \n",
       "244122    MainScreenAppear  5849806612437486590  1565212439   246   \n",
       "244123    MainScreenAppear  5746969938801999050  1565212483   246   \n",
       "244124    MainScreenAppear  5746969938801999050  1565212498   246   \n",
       "244125  OffersScreenAppear  5746969938801999050  1565212517   246   \n",
       "\n",
       "            event_datetime  event_date  \n",
       "2828   2019-08-01 00:07:28  2019-08-01  \n",
       "2829   2019-08-01 00:08:00  2019-08-01  \n",
       "2830   2019-08-01 00:08:55  2019-08-01  \n",
       "2831   2019-08-01 00:08:58  2019-08-01  \n",
       "2832   2019-08-01 00:08:59  2019-08-01  \n",
       "...                    ...         ...  \n",
       "244121 2019-08-07 21:12:25  2019-08-07  \n",
       "244122 2019-08-07 21:13:59  2019-08-07  \n",
       "244123 2019-08-07 21:14:43  2019-08-07  \n",
       "244124 2019-08-07 21:14:58  2019-08-07  \n",
       "244125 2019-08-07 21:15:17  2019-08-07  \n",
       "\n",
       "[240887 rows x 6 columns]"
      ]
     },
     "execution_count": 14,
     "metadata": {},
     "output_type": "execute_result"
    }
   ],
   "source": [
    "# Filtrar el df original con las fechas a partir del 1ro de Agosto \n",
    "filtered_events = events[events['event_datetime'] > '2019-07-31 23:59:59']\n",
    "# Ver el df filtrado\n",
    "filtered_events"
   ]
  },
  {
   "cell_type": "markdown",
   "metadata": {},
   "source": [
    "La decisión tomada abre las puertas a dos nuevas preguntas:\n",
    "1. ¿Se perdieron muchos eventos y usuarios al excluir los datos más antiguos?\n",
    "2. ¿Hay usuarios y usuarias de los 3 grupos experimentales? "
   ]
  },
  {
   "cell_type": "markdown",
   "metadata": {},
   "source": [
    "## ¿Se perdieron muchos eventos y usuarios al excluir los datos más antiguos?"
   ]
  },
  {
   "cell_type": "code",
   "execution_count": 15,
   "metadata": {},
   "outputs": [
    {
     "name": "stdout",
     "output_type": "stream",
     "text": [
      "Al haber excluido los datos se perdieron 2826 eventos, que equivalen a un: 1.16% de los eventos iniciales\n",
      "Al haber excluido los datos se perdieron 17 usuarios, que equivalen a un: 0.23% de los usuarios iniciales\n"
     ]
    }
   ],
   "source": [
    "# Calcular la cantidad de eventos que se perdieron y la proporción que representan de los eventos iniciales  \n",
    "print(f'Al haber excluido los datos se perdieron {events['event_name'].count() - filtered_events['event_name'].count()} eventos, que equivalen a un: {round(\n",
    "    ((events['event_name'].count() - filtered_events['event_name'].count()) / events['event_name'].count()) * 100, 2)}% de los eventos iniciales')\n",
    "# Calcular la cantidad de usuari@s se perdieron y la proporción que representan de los usuarios iniciales\n",
    "print(f'Al haber excluido los datos se perdieron {events['user_id'].nunique() - filtered_events['user_id'].nunique()} usuarios, que equivalen a un: {round(\n",
    "    (events['user_id'].nunique() - filtered_events['user_id'].nunique()) / events['user_id'].nunique() * 100,2)}% de los usuarios iniciales')"
   ]
  },
  {
   "cell_type": "markdown",
   "metadata": {},
   "source": [
    "Los resultados muestran que la cantidad de datos que se excluyeron representan un porcentaje muy bajo de los datos totales, por lo que no significaría un problema."
   ]
  },
  {
   "cell_type": "markdown",
   "metadata": {},
   "source": [
    "## ¿Hay usuarios y usuarias de los 3 grupos experimentales?"
   ]
  },
  {
   "cell_type": "code",
   "execution_count": 16,
   "metadata": {},
   "outputs": [
    {
     "name": "stderr",
     "output_type": "stream",
     "text": [
      "C:\\Users\\User\\AppData\\Local\\Temp\\ipykernel_19844\\962760143.py:2: FutureWarning: The default of observed=False is deprecated and will be changed to True in a future version of pandas. Pass observed=False to retain current behavior or observed=True to adopt the future default and silence this warning.\n",
      "  users_per_group = filtered_events.groupby('group', as_index=False).agg({'user_id':'nunique'})\n"
     ]
    },
    {
     "data": {
      "text/html": [
       "<div>\n",
       "<style scoped>\n",
       "    .dataframe tbody tr th:only-of-type {\n",
       "        vertical-align: middle;\n",
       "    }\n",
       "\n",
       "    .dataframe tbody tr th {\n",
       "        vertical-align: top;\n",
       "    }\n",
       "\n",
       "    .dataframe thead th {\n",
       "        text-align: right;\n",
       "    }\n",
       "</style>\n",
       "<table border=\"1\" class=\"dataframe\">\n",
       "  <thead>\n",
       "    <tr style=\"text-align: right;\">\n",
       "      <th></th>\n",
       "      <th>group</th>\n",
       "      <th>user_id</th>\n",
       "    </tr>\n",
       "  </thead>\n",
       "  <tbody>\n",
       "    <tr>\n",
       "      <th>0</th>\n",
       "      <td>246</td>\n",
       "      <td>2484</td>\n",
       "    </tr>\n",
       "    <tr>\n",
       "      <th>1</th>\n",
       "      <td>247</td>\n",
       "      <td>2513</td>\n",
       "    </tr>\n",
       "    <tr>\n",
       "      <th>2</th>\n",
       "      <td>248</td>\n",
       "      <td>2537</td>\n",
       "    </tr>\n",
       "  </tbody>\n",
       "</table>\n",
       "</div>"
      ],
      "text/plain": [
       "  group  user_id\n",
       "0   246     2484\n",
       "1   247     2513\n",
       "2   248     2537"
      ]
     },
     "execution_count": 16,
     "metadata": {},
     "output_type": "execute_result"
    }
   ],
   "source": [
    "# Sacar conteo de usuarios por grupo \n",
    "users_per_group = filtered_events.groupby('group', as_index=False).agg({'user_id':'nunique'})\n",
    "users_per_group"
   ]
  },
  {
   "cell_type": "markdown",
   "metadata": {},
   "source": [
    "La tabla resultante nos muestra cuantos usuarios pertenecen a cada grupo, por lo que podemos confirmar que si tenemos usuarios y usuarias en los 3 grupos experimentales.\n",
    "\n",
    "Se decidió crear un df con esta información con la idea de que podría ser útil más adelante para diferentes análisis."
   ]
  },
  {
   "cell_type": "markdown",
   "metadata": {},
   "source": [
    "# Estudiar el embudo de eventos \n",
    "Antes de iniciar con los estudios y análisis con los datos filtrados, se tiene que actualizar la cantidad de eventos y usuarios totales."
   ]
  },
  {
   "cell_type": "code",
   "execution_count": 17,
   "metadata": {},
   "outputs": [],
   "source": [
    "# Actualizar cantidad total de eventos \n",
    "total_events = filtered_events['event_name'].count()\n",
    "# Actualizar cantidad total de usuarios \n",
    "total_users = filtered_events['user_id'].nunique()"
   ]
  },
  {
   "cell_type": "markdown",
   "metadata": {},
   "source": [
    "## Frecuencia de suceso de los eventos registrados "
   ]
  },
  {
   "cell_type": "code",
   "execution_count": 18,
   "metadata": {},
   "outputs": [],
   "source": [
    "# Obtener la frecuencia de ocurrencia de cada evento\n",
    "event_counts = events['event_name'].value_counts().reset_index()\n",
    "event_counts.columns = ['Event', 'Frequency']\n",
    "\n",
    "# Ordenar los eventos por frecuencia de ocurrencia\n",
    "event_counts = event_counts.sort_values(by='Frequency', ascending=False)\n"
   ]
  },
  {
   "cell_type": "code",
   "execution_count": 19,
   "metadata": {},
   "outputs": [
    {
     "data": {
      "application/vnd.plotly.v1+json": {
       "config": {
        "plotlyServerURL": "https://plot.ly"
       },
       "data": [
        {
         "domain": {
          "x": [
           0,
           1
          ],
          "y": [
           0,
           1
          ]
         },
         "hovertemplate": "Event=%{label}<br>Frequency=%{value}<extra></extra>",
         "labels": [
          "MainScreenAppear",
          "OffersScreenAppear",
          "CartScreenAppear",
          "PaymentScreenSuccessful",
          "Tutorial"
         ],
         "legendgroup": "",
         "name": "",
         "showlegend": true,
         "type": "pie",
         "values": [
          119101,
          46808,
          42668,
          34118,
          1018
         ]
        }
       ],
       "layout": {
        "height": 400,
        "legend": {
         "tracegroupgap": 0
        },
        "piecolorway": [
         "rgb(103,0,31)",
         "rgb(178,24,43)",
         "rgb(214,96,77)",
         "rgb(244,165,130)",
         "rgb(253,219,199)",
         "rgb(247,247,247)",
         "rgb(209,229,240)",
         "rgb(146,197,222)",
         "rgb(67,147,195)",
         "rgb(33,102,172)",
         "rgb(5,48,97)"
        ],
        "template": {
         "data": {
          "bar": [
           {
            "error_x": {
             "color": "#f2f5fa"
            },
            "error_y": {
             "color": "#f2f5fa"
            },
            "marker": {
             "line": {
              "color": "rgb(17,17,17)",
              "width": 0.5
             },
             "pattern": {
              "fillmode": "overlay",
              "size": 10,
              "solidity": 0.2
             }
            },
            "type": "bar"
           }
          ],
          "barpolar": [
           {
            "marker": {
             "line": {
              "color": "rgb(17,17,17)",
              "width": 0.5
             },
             "pattern": {
              "fillmode": "overlay",
              "size": 10,
              "solidity": 0.2
             }
            },
            "type": "barpolar"
           }
          ],
          "carpet": [
           {
            "aaxis": {
             "endlinecolor": "#A2B1C6",
             "gridcolor": "#506784",
             "linecolor": "#506784",
             "minorgridcolor": "#506784",
             "startlinecolor": "#A2B1C6"
            },
            "baxis": {
             "endlinecolor": "#A2B1C6",
             "gridcolor": "#506784",
             "linecolor": "#506784",
             "minorgridcolor": "#506784",
             "startlinecolor": "#A2B1C6"
            },
            "type": "carpet"
           }
          ],
          "choropleth": [
           {
            "colorbar": {
             "outlinewidth": 0,
             "ticks": ""
            },
            "type": "choropleth"
           }
          ],
          "contour": [
           {
            "colorbar": {
             "outlinewidth": 0,
             "ticks": ""
            },
            "colorscale": [
             [
              0,
              "#0d0887"
             ],
             [
              0.1111111111111111,
              "#46039f"
             ],
             [
              0.2222222222222222,
              "#7201a8"
             ],
             [
              0.3333333333333333,
              "#9c179e"
             ],
             [
              0.4444444444444444,
              "#bd3786"
             ],
             [
              0.5555555555555556,
              "#d8576b"
             ],
             [
              0.6666666666666666,
              "#ed7953"
             ],
             [
              0.7777777777777778,
              "#fb9f3a"
             ],
             [
              0.8888888888888888,
              "#fdca26"
             ],
             [
              1,
              "#f0f921"
             ]
            ],
            "type": "contour"
           }
          ],
          "contourcarpet": [
           {
            "colorbar": {
             "outlinewidth": 0,
             "ticks": ""
            },
            "type": "contourcarpet"
           }
          ],
          "heatmap": [
           {
            "colorbar": {
             "outlinewidth": 0,
             "ticks": ""
            },
            "colorscale": [
             [
              0,
              "#0d0887"
             ],
             [
              0.1111111111111111,
              "#46039f"
             ],
             [
              0.2222222222222222,
              "#7201a8"
             ],
             [
              0.3333333333333333,
              "#9c179e"
             ],
             [
              0.4444444444444444,
              "#bd3786"
             ],
             [
              0.5555555555555556,
              "#d8576b"
             ],
             [
              0.6666666666666666,
              "#ed7953"
             ],
             [
              0.7777777777777778,
              "#fb9f3a"
             ],
             [
              0.8888888888888888,
              "#fdca26"
             ],
             [
              1,
              "#f0f921"
             ]
            ],
            "type": "heatmap"
           }
          ],
          "heatmapgl": [
           {
            "colorbar": {
             "outlinewidth": 0,
             "ticks": ""
            },
            "colorscale": [
             [
              0,
              "#0d0887"
             ],
             [
              0.1111111111111111,
              "#46039f"
             ],
             [
              0.2222222222222222,
              "#7201a8"
             ],
             [
              0.3333333333333333,
              "#9c179e"
             ],
             [
              0.4444444444444444,
              "#bd3786"
             ],
             [
              0.5555555555555556,
              "#d8576b"
             ],
             [
              0.6666666666666666,
              "#ed7953"
             ],
             [
              0.7777777777777778,
              "#fb9f3a"
             ],
             [
              0.8888888888888888,
              "#fdca26"
             ],
             [
              1,
              "#f0f921"
             ]
            ],
            "type": "heatmapgl"
           }
          ],
          "histogram": [
           {
            "marker": {
             "pattern": {
              "fillmode": "overlay",
              "size": 10,
              "solidity": 0.2
             }
            },
            "type": "histogram"
           }
          ],
          "histogram2d": [
           {
            "colorbar": {
             "outlinewidth": 0,
             "ticks": ""
            },
            "colorscale": [
             [
              0,
              "#0d0887"
             ],
             [
              0.1111111111111111,
              "#46039f"
             ],
             [
              0.2222222222222222,
              "#7201a8"
             ],
             [
              0.3333333333333333,
              "#9c179e"
             ],
             [
              0.4444444444444444,
              "#bd3786"
             ],
             [
              0.5555555555555556,
              "#d8576b"
             ],
             [
              0.6666666666666666,
              "#ed7953"
             ],
             [
              0.7777777777777778,
              "#fb9f3a"
             ],
             [
              0.8888888888888888,
              "#fdca26"
             ],
             [
              1,
              "#f0f921"
             ]
            ],
            "type": "histogram2d"
           }
          ],
          "histogram2dcontour": [
           {
            "colorbar": {
             "outlinewidth": 0,
             "ticks": ""
            },
            "colorscale": [
             [
              0,
              "#0d0887"
             ],
             [
              0.1111111111111111,
              "#46039f"
             ],
             [
              0.2222222222222222,
              "#7201a8"
             ],
             [
              0.3333333333333333,
              "#9c179e"
             ],
             [
              0.4444444444444444,
              "#bd3786"
             ],
             [
              0.5555555555555556,
              "#d8576b"
             ],
             [
              0.6666666666666666,
              "#ed7953"
             ],
             [
              0.7777777777777778,
              "#fb9f3a"
             ],
             [
              0.8888888888888888,
              "#fdca26"
             ],
             [
              1,
              "#f0f921"
             ]
            ],
            "type": "histogram2dcontour"
           }
          ],
          "mesh3d": [
           {
            "colorbar": {
             "outlinewidth": 0,
             "ticks": ""
            },
            "type": "mesh3d"
           }
          ],
          "parcoords": [
           {
            "line": {
             "colorbar": {
              "outlinewidth": 0,
              "ticks": ""
             }
            },
            "type": "parcoords"
           }
          ],
          "pie": [
           {
            "automargin": true,
            "type": "pie"
           }
          ],
          "scatter": [
           {
            "marker": {
             "line": {
              "color": "#283442"
             }
            },
            "type": "scatter"
           }
          ],
          "scatter3d": [
           {
            "line": {
             "colorbar": {
              "outlinewidth": 0,
              "ticks": ""
             }
            },
            "marker": {
             "colorbar": {
              "outlinewidth": 0,
              "ticks": ""
             }
            },
            "type": "scatter3d"
           }
          ],
          "scattercarpet": [
           {
            "marker": {
             "colorbar": {
              "outlinewidth": 0,
              "ticks": ""
             }
            },
            "type": "scattercarpet"
           }
          ],
          "scattergeo": [
           {
            "marker": {
             "colorbar": {
              "outlinewidth": 0,
              "ticks": ""
             }
            },
            "type": "scattergeo"
           }
          ],
          "scattergl": [
           {
            "marker": {
             "line": {
              "color": "#283442"
             }
            },
            "type": "scattergl"
           }
          ],
          "scattermapbox": [
           {
            "marker": {
             "colorbar": {
              "outlinewidth": 0,
              "ticks": ""
             }
            },
            "type": "scattermapbox"
           }
          ],
          "scatterpolar": [
           {
            "marker": {
             "colorbar": {
              "outlinewidth": 0,
              "ticks": ""
             }
            },
            "type": "scatterpolar"
           }
          ],
          "scatterpolargl": [
           {
            "marker": {
             "colorbar": {
              "outlinewidth": 0,
              "ticks": ""
             }
            },
            "type": "scatterpolargl"
           }
          ],
          "scatterternary": [
           {
            "marker": {
             "colorbar": {
              "outlinewidth": 0,
              "ticks": ""
             }
            },
            "type": "scatterternary"
           }
          ],
          "surface": [
           {
            "colorbar": {
             "outlinewidth": 0,
             "ticks": ""
            },
            "colorscale": [
             [
              0,
              "#0d0887"
             ],
             [
              0.1111111111111111,
              "#46039f"
             ],
             [
              0.2222222222222222,
              "#7201a8"
             ],
             [
              0.3333333333333333,
              "#9c179e"
             ],
             [
              0.4444444444444444,
              "#bd3786"
             ],
             [
              0.5555555555555556,
              "#d8576b"
             ],
             [
              0.6666666666666666,
              "#ed7953"
             ],
             [
              0.7777777777777778,
              "#fb9f3a"
             ],
             [
              0.8888888888888888,
              "#fdca26"
             ],
             [
              1,
              "#f0f921"
             ]
            ],
            "type": "surface"
           }
          ],
          "table": [
           {
            "cells": {
             "fill": {
              "color": "#506784"
             },
             "line": {
              "color": "rgb(17,17,17)"
             }
            },
            "header": {
             "fill": {
              "color": "#2a3f5f"
             },
             "line": {
              "color": "rgb(17,17,17)"
             }
            },
            "type": "table"
           }
          ]
         },
         "layout": {
          "annotationdefaults": {
           "arrowcolor": "#f2f5fa",
           "arrowhead": 0,
           "arrowwidth": 1
          },
          "autotypenumbers": "strict",
          "coloraxis": {
           "colorbar": {
            "outlinewidth": 0,
            "ticks": ""
           }
          },
          "colorscale": {
           "diverging": [
            [
             0,
             "#8e0152"
            ],
            [
             0.1,
             "#c51b7d"
            ],
            [
             0.2,
             "#de77ae"
            ],
            [
             0.3,
             "#f1b6da"
            ],
            [
             0.4,
             "#fde0ef"
            ],
            [
             0.5,
             "#f7f7f7"
            ],
            [
             0.6,
             "#e6f5d0"
            ],
            [
             0.7,
             "#b8e186"
            ],
            [
             0.8,
             "#7fbc41"
            ],
            [
             0.9,
             "#4d9221"
            ],
            [
             1,
             "#276419"
            ]
           ],
           "sequential": [
            [
             0,
             "#0d0887"
            ],
            [
             0.1111111111111111,
             "#46039f"
            ],
            [
             0.2222222222222222,
             "#7201a8"
            ],
            [
             0.3333333333333333,
             "#9c179e"
            ],
            [
             0.4444444444444444,
             "#bd3786"
            ],
            [
             0.5555555555555556,
             "#d8576b"
            ],
            [
             0.6666666666666666,
             "#ed7953"
            ],
            [
             0.7777777777777778,
             "#fb9f3a"
            ],
            [
             0.8888888888888888,
             "#fdca26"
            ],
            [
             1,
             "#f0f921"
            ]
           ],
           "sequentialminus": [
            [
             0,
             "#0d0887"
            ],
            [
             0.1111111111111111,
             "#46039f"
            ],
            [
             0.2222222222222222,
             "#7201a8"
            ],
            [
             0.3333333333333333,
             "#9c179e"
            ],
            [
             0.4444444444444444,
             "#bd3786"
            ],
            [
             0.5555555555555556,
             "#d8576b"
            ],
            [
             0.6666666666666666,
             "#ed7953"
            ],
            [
             0.7777777777777778,
             "#fb9f3a"
            ],
            [
             0.8888888888888888,
             "#fdca26"
            ],
            [
             1,
             "#f0f921"
            ]
           ]
          },
          "colorway": [
           "#636efa",
           "#EF553B",
           "#00cc96",
           "#ab63fa",
           "#FFA15A",
           "#19d3f3",
           "#FF6692",
           "#B6E880",
           "#FF97FF",
           "#FECB52"
          ],
          "font": {
           "color": "#f2f5fa"
          },
          "geo": {
           "bgcolor": "rgb(17,17,17)",
           "lakecolor": "rgb(17,17,17)",
           "landcolor": "rgb(17,17,17)",
           "showlakes": true,
           "showland": true,
           "subunitcolor": "#506784"
          },
          "hoverlabel": {
           "align": "left"
          },
          "hovermode": "closest",
          "mapbox": {
           "style": "dark"
          },
          "paper_bgcolor": "rgb(17,17,17)",
          "plot_bgcolor": "rgb(17,17,17)",
          "polar": {
           "angularaxis": {
            "gridcolor": "#506784",
            "linecolor": "#506784",
            "ticks": ""
           },
           "bgcolor": "rgb(17,17,17)",
           "radialaxis": {
            "gridcolor": "#506784",
            "linecolor": "#506784",
            "ticks": ""
           }
          },
          "scene": {
           "xaxis": {
            "backgroundcolor": "rgb(17,17,17)",
            "gridcolor": "#506784",
            "gridwidth": 2,
            "linecolor": "#506784",
            "showbackground": true,
            "ticks": "",
            "zerolinecolor": "#C8D4E3"
           },
           "yaxis": {
            "backgroundcolor": "rgb(17,17,17)",
            "gridcolor": "#506784",
            "gridwidth": 2,
            "linecolor": "#506784",
            "showbackground": true,
            "ticks": "",
            "zerolinecolor": "#C8D4E3"
           },
           "zaxis": {
            "backgroundcolor": "rgb(17,17,17)",
            "gridcolor": "#506784",
            "gridwidth": 2,
            "linecolor": "#506784",
            "showbackground": true,
            "ticks": "",
            "zerolinecolor": "#C8D4E3"
           }
          },
          "shapedefaults": {
           "line": {
            "color": "#f2f5fa"
           }
          },
          "sliderdefaults": {
           "bgcolor": "#C8D4E3",
           "bordercolor": "rgb(17,17,17)",
           "borderwidth": 1,
           "tickwidth": 0
          },
          "ternary": {
           "aaxis": {
            "gridcolor": "#506784",
            "linecolor": "#506784",
            "ticks": ""
           },
           "baxis": {
            "gridcolor": "#506784",
            "linecolor": "#506784",
            "ticks": ""
           },
           "bgcolor": "rgb(17,17,17)",
           "caxis": {
            "gridcolor": "#506784",
            "linecolor": "#506784",
            "ticks": ""
           }
          },
          "title": {
           "x": 0.05
          },
          "updatemenudefaults": {
           "bgcolor": "#506784",
           "borderwidth": 0
          },
          "xaxis": {
           "automargin": true,
           "gridcolor": "#283442",
           "linecolor": "#506784",
           "ticks": "",
           "title": {
            "standoff": 15
           },
           "zerolinecolor": "#283442",
           "zerolinewidth": 2
          },
          "yaxis": {
           "automargin": true,
           "gridcolor": "#283442",
           "linecolor": "#506784",
           "ticks": "",
           "title": {
            "standoff": 15
           },
           "zerolinecolor": "#283442",
           "zerolinewidth": 2
          }
         }
        },
        "title": {
         "text": "Frecuencia de Eventos"
        },
        "width": 700
       }
      }
     },
     "metadata": {},
     "output_type": "display_data"
    }
   ],
   "source": [
    "# Crear el gráfico circular con estilo diferente y tamaño más pequeño\n",
    "fig = px.pie(event_counts, values='Frequency', names='Event', title='Frecuencia de Eventos', width=700, height=400, color_discrete_sequence=px.colors.sequential.RdBu, template='plotly_dark')\n",
    "\n",
    "# Mostrar el gráfico\n",
    "fig.show()"
   ]
  },
  {
   "cell_type": "markdown",
   "metadata": {},
   "source": [
    "El gráfico muestra que el evento que más registro tiene es el de la página principal, seguido de la página con las ofertas, luego la del carrito y por último la página referente al pago. Este orden parece ser correcto ya que esa secuencia es la lógica para un usuario que termina comprando algo en la página."
   ]
  },
  {
   "cell_type": "markdown",
   "metadata": {},
   "source": [
    "## Cantidad de usuarios y usuarias que realizaron cada evento"
   ]
  },
  {
   "cell_type": "code",
   "execution_count": 20,
   "metadata": {},
   "outputs": [
    {
     "name": "stderr",
     "output_type": "stream",
     "text": [
      "C:\\Users\\User\\AppData\\Local\\Temp\\ipykernel_19844\\3935545382.py:3: FutureWarning:\n",
      "\n",
      "The default of observed=False is deprecated and will be changed to True in a future version of pandas. Pass observed=False to retain current behavior or observed=True to adopt the future default and silence this warning.\n",
      "\n"
     ]
    },
    {
     "data": {
      "text/html": [
       "<div>\n",
       "<style scoped>\n",
       "    .dataframe tbody tr th:only-of-type {\n",
       "        vertical-align: middle;\n",
       "    }\n",
       "\n",
       "    .dataframe tbody tr th {\n",
       "        vertical-align: top;\n",
       "    }\n",
       "\n",
       "    .dataframe thead th {\n",
       "        text-align: right;\n",
       "    }\n",
       "</style>\n",
       "<table border=\"1\" class=\"dataframe\">\n",
       "  <thead>\n",
       "    <tr style=\"text-align: right;\">\n",
       "      <th></th>\n",
       "      <th>event_name</th>\n",
       "      <th>user_id</th>\n",
       "    </tr>\n",
       "  </thead>\n",
       "  <tbody>\n",
       "    <tr>\n",
       "      <th>1</th>\n",
       "      <td>MainScreenAppear</td>\n",
       "      <td>7419</td>\n",
       "    </tr>\n",
       "    <tr>\n",
       "      <th>2</th>\n",
       "      <td>OffersScreenAppear</td>\n",
       "      <td>4593</td>\n",
       "    </tr>\n",
       "    <tr>\n",
       "      <th>0</th>\n",
       "      <td>CartScreenAppear</td>\n",
       "      <td>3734</td>\n",
       "    </tr>\n",
       "    <tr>\n",
       "      <th>3</th>\n",
       "      <td>PaymentScreenSuccessful</td>\n",
       "      <td>3539</td>\n",
       "    </tr>\n",
       "    <tr>\n",
       "      <th>4</th>\n",
       "      <td>Tutorial</td>\n",
       "      <td>840</td>\n",
       "    </tr>\n",
       "  </tbody>\n",
       "</table>\n",
       "</div>"
      ],
      "text/plain": [
       "                event_name  user_id\n",
       "1         MainScreenAppear     7419\n",
       "2       OffersScreenAppear     4593\n",
       "0         CartScreenAppear     3734\n",
       "3  PaymentScreenSuccessful     3539\n",
       "4                 Tutorial      840"
      ]
     },
     "execution_count": 20,
     "metadata": {},
     "output_type": "execute_result"
    }
   ],
   "source": [
    "# Calcular la cantidad usuarios que participaron en cada evento \n",
    "# Guardarlo en la variable 'users_per_event'\n",
    "users_per_event = filtered_events.groupby('event_name',as_index=False).agg({'user_id':'nunique'}).sort_values(by='user_id', ascending=False)\n",
    "users_per_event"
   ]
  },
  {
   "cell_type": "markdown",
   "metadata": {},
   "source": [
    "Acá podemos observar que se mantiene la misma secuencia que con la frecuencia de los eventos, se mantiene el mismo orden y la disminución de usuarios a lo largo de las páginas permite ir viendo el embudo."
   ]
  },
  {
   "cell_type": "markdown",
   "metadata": {},
   "source": [
    "### Proporción de usuarios y usuarias que realizaron la acción al menos una vez "
   ]
  },
  {
   "cell_type": "code",
   "execution_count": 21,
   "metadata": {},
   "outputs": [
    {
     "data": {
      "text/html": [
       "<div>\n",
       "<style scoped>\n",
       "    .dataframe tbody tr th:only-of-type {\n",
       "        vertical-align: middle;\n",
       "    }\n",
       "\n",
       "    .dataframe tbody tr th {\n",
       "        vertical-align: top;\n",
       "    }\n",
       "\n",
       "    .dataframe thead th {\n",
       "        text-align: right;\n",
       "    }\n",
       "</style>\n",
       "<table border=\"1\" class=\"dataframe\">\n",
       "  <thead>\n",
       "    <tr style=\"text-align: right;\">\n",
       "      <th></th>\n",
       "      <th>event_name</th>\n",
       "      <th>user_id</th>\n",
       "      <th>proportion</th>\n",
       "    </tr>\n",
       "  </thead>\n",
       "  <tbody>\n",
       "    <tr>\n",
       "      <th>1</th>\n",
       "      <td>MainScreenAppear</td>\n",
       "      <td>7419</td>\n",
       "      <td>0.984736</td>\n",
       "    </tr>\n",
       "    <tr>\n",
       "      <th>2</th>\n",
       "      <td>OffersScreenAppear</td>\n",
       "      <td>4593</td>\n",
       "      <td>0.609636</td>\n",
       "    </tr>\n",
       "    <tr>\n",
       "      <th>0</th>\n",
       "      <td>CartScreenAppear</td>\n",
       "      <td>3734</td>\n",
       "      <td>0.495620</td>\n",
       "    </tr>\n",
       "    <tr>\n",
       "      <th>3</th>\n",
       "      <td>PaymentScreenSuccessful</td>\n",
       "      <td>3539</td>\n",
       "      <td>0.469737</td>\n",
       "    </tr>\n",
       "    <tr>\n",
       "      <th>4</th>\n",
       "      <td>Tutorial</td>\n",
       "      <td>840</td>\n",
       "      <td>0.111495</td>\n",
       "    </tr>\n",
       "  </tbody>\n",
       "</table>\n",
       "</div>"
      ],
      "text/plain": [
       "                event_name  user_id  proportion\n",
       "1         MainScreenAppear     7419    0.984736\n",
       "2       OffersScreenAppear     4593    0.609636\n",
       "0         CartScreenAppear     3734    0.495620\n",
       "3  PaymentScreenSuccessful     3539    0.469737\n",
       "4                 Tutorial      840    0.111495"
      ]
     },
     "execution_count": 21,
     "metadata": {},
     "output_type": "execute_result"
    }
   ],
   "source": [
    "# Calcular la proporción de usuarios y usuarias que realizaron cada acción al menos una vez\n",
    "users_per_event['proportion'] = users_per_event['user_id'] / total_users\n",
    "\n",
    "users_per_event"
   ]
  },
  {
   "cell_type": "markdown",
   "metadata": {},
   "source": [
    "Este resultado nos proporciona información sobre la penetración de cada acción en relación con el total de usuarios y usuarias en el conjunto de datos:\n",
    "\n",
    "MainScreenAppear: Aproximadamente el 98.47% de los usuarios y usuarias realizaron esta acción al menos una vez. Esto sugiere que la mayoría de los usuarios y usuarias interactúan con la pantalla principal de la aplicación.\n",
    "\n",
    "OffersScreenAppear: Alrededor del 60.96% de los usuarios y usuarias realizaron esta acción al menos una vez. Esto indica que una proporción considerable de usuarios y usuarias interactúan con la pantalla de ofertas.\n",
    "\n",
    "CartScreenAppear: Cerca del 49.56% de los usuarios y usuarias realizaron esta acción al menos una vez. Esto muestra que alrededor de la mitad de los usuarios y usuarias agregan productos al carrito en la aplicación.\n",
    "\n",
    "PaymentScreenSuccessful: Aproximadamente el 46.97% de los usuarios y usuarias realizaron esta acción al menos una vez. Esto sugiere que una cantidad significativa de usuarios y usuarias completan el proceso de pago en la aplicación.\n",
    "\n",
    "Tutorial: Solo alrededor del 11.15% de los usuarios y usuarias realizaron esta acción al menos una vez. Esto indica que una minoría de usuarios y usuarias interactúan con el tutorial de la aplicación.\n",
    "\n",
    "En resumen, este análisis nos brinda una comprensión de la participación de los usuarios y usuarias en diferentes acciones de la aplicación, lo que puede ser útil para identificar áreas de enfoque o mejora en la experiencia del usuario."
   ]
  },
  {
   "cell_type": "markdown",
   "metadata": {},
   "source": [
    "## ¿En qué orden crees que ocurrieron las acciones? ¿Todas son parte de una sola secuencia? \n",
    "\n",
    "Aunque todos los eventos muestran cantidades diferentes de usuarios en cada uno, es lógico asumir que todos hacen parte de una sola secuencia, la cual podría ser: \n",
    "\n",
    "Primero los visitantes miran el tutorial, luego se van a la página principal que los lleva a la oferta, con una oferta que les llamó la antención van a la página del carrito para terminar la compra e ir a la página de pago exitoso.\n",
    "\n",
    "1. Tutorial:\n",
    "A pesar de ser el evento con menos frecuencia y usuarios es lógico asumir que este es lo primero que hacen los usuarios y usuarias nuevos que no logran entender del todo la página, pero el ver el la proporción tan baja de usuarios que lo realizan pueden tomarse suposiciones positivas como que el sitio está bien hecho y organizado por lo que la mayoría de usuarios no sienten la necesidad de mirar un tutorial.\n",
    "\n",
    "2. Main Screen: \n",
    "Luego del tutorial, lo más probable es que lleguen a esta página y al estar en la página principal pueden ver todo el contenido que ofrece la misma.\n",
    "\n",
    "3. Oferrs Screen: Luego de ver el contenido general de la página principal, llegan a una oferta que les llamó la atención.\n",
    "\n",
    "4. Cart Screen: Después de seleccionar la oferta que les llamó la atención llegan al carrito para ver sus productos seleccionados junto con la descripción del mismo.\n",
    "\n",
    "5. Payment Screen: La última de todas, los usuarios llegan a esta una vez hayan comprado los productos que tenían en el carrito.\n",
    " "
   ]
  },
  {
   "cell_type": "markdown",
   "metadata": {},
   "source": [
    "##  Utiliza el embudo de eventos para encontrar la proporción de usuarios y usuarias que pasan de una etapa a la siguiente."
   ]
  },
  {
   "cell_type": "code",
   "execution_count": 22,
   "metadata": {},
   "outputs": [
    {
     "name": "stderr",
     "output_type": "stream",
     "text": [
      "C:\\Users\\User\\AppData\\Local\\Temp\\ipykernel_19844\\1099883739.py:2: FutureWarning:\n",
      "\n",
      "Calling int on a single element Series is deprecated and will raise a TypeError in the future. Use int(ser.iloc[0]) instead\n",
      "\n",
      "C:\\Users\\User\\AppData\\Local\\Temp\\ipykernel_19844\\1099883739.py:6: FutureWarning:\n",
      "\n",
      "Calling int on a single element Series is deprecated and will raise a TypeError in the future. Use int(ser.iloc[0]) instead\n",
      "\n",
      "C:\\Users\\User\\AppData\\Local\\Temp\\ipykernel_19844\\1099883739.py:10: FutureWarning:\n",
      "\n",
      "Calling int on a single element Series is deprecated and will raise a TypeError in the future. Use int(ser.iloc[0]) instead\n",
      "\n"
     ]
    }
   ],
   "source": [
    "# Calcular la proporción de usuarios que van de la Main a la Offer page \n",
    "main_to_offer = (int(users_per_event['user_id'][users_per_event['event_name'] == 'OffersScreenAppear']) / int(users_per_event['user_id'][users_per_event['event_name'] == 'MainScreenAppear'])) * 100\n",
    "# Redondear resultado \n",
    "main_to_offer = main_to_offer.__round__(2)\n",
    "# Calcular la proporción de usuarios que van de la Offer a la Cart page\n",
    "offer_to_cart = (int(users_per_event['user_id'][users_per_event['event_name'] == 'CartScreenAppear']) / int(users_per_event['user_id'][users_per_event['event_name'] == 'OffersScreenAppear'])) * 100\n",
    "# Redondear resultado \n",
    "offer_to_cart = offer_to_cart.__round__(2)\n",
    "# Calcular la proporción de usuarios que van de la Cart a la Payment Page \n",
    "cart_to_payment = (int(users_per_event['user_id'][users_per_event['event_name'] == 'PaymentScreenSuccessful']) / int(users_per_event['user_id'][users_per_event['event_name'] == 'CartScreenAppear'])) * 100\n",
    "# Redondear el resultado \n",
    "cart_to_payment = cart_to_payment.__round__(2)"
   ]
  },
  {
   "cell_type": "code",
   "execution_count": 23,
   "metadata": {},
   "outputs": [
    {
     "name": "stdout",
     "output_type": "stream",
     "text": [
      "Proporción de usuarios que pasan de la página principal a la de ofertas: 61.91%\n",
      "Proporción de usuarios que pasan de la página de ofertas a la del carrito: 81.3%\n",
      "Proporción de usuarios que pasan de la página del carrito a la del pago realizado: 94.78%\n"
     ]
    }
   ],
   "source": [
    "print(f'Proporción de usuarios que pasan de la página principal a la de ofertas: {main_to_offer}%')\n",
    "print(f'Proporción de usuarios que pasan de la página de ofertas a la del carrito: {offer_to_cart}%')\n",
    "print(f'Proporción de usuarios que pasan de la página del carrito a la del pago realizado: {cart_to_payment}%')"
   ]
  },
  {
   "cell_type": "code",
   "execution_count": 24,
   "metadata": {},
   "outputs": [
    {
     "name": "stderr",
     "output_type": "stream",
     "text": [
      "C:\\Users\\User\\AppData\\Local\\Temp\\ipykernel_19844\\4068004803.py:7: FutureWarning:\n",
      "\n",
      "\n",
      "\n",
      "Passing `palette` without assigning `hue` is deprecated and will be removed in v0.14.0. Assign the `x` variable to `hue` and set `legend=False` for the same effect.\n",
      "\n",
      "\n",
      "c:\\Users\\User\\AppData\\Local\\Programs\\Python\\Python312\\Lib\\site-packages\\seaborn\\_base.py:948: FutureWarning:\n",
      "\n",
      "When grouping with a length-1 list-like, you will need to pass a length-1 tuple to get_group in a future version of pandas. Pass `(name,)` instead of `name` to silence this warning.\n",
      "\n",
      "c:\\Users\\User\\AppData\\Local\\Programs\\Python\\Python312\\Lib\\site-packages\\seaborn\\_base.py:948: FutureWarning:\n",
      "\n",
      "When grouping with a length-1 list-like, you will need to pass a length-1 tuple to get_group in a future version of pandas. Pass `(name,)` instead of `name` to silence this warning.\n",
      "\n",
      "c:\\Users\\User\\AppData\\Local\\Programs\\Python\\Python312\\Lib\\site-packages\\seaborn\\_base.py:948: FutureWarning:\n",
      "\n",
      "When grouping with a length-1 list-like, you will need to pass a length-1 tuple to get_group in a future version of pandas. Pass `(name,)` instead of `name` to silence this warning.\n",
      "\n"
     ]
    },
    {
     "data": {
      "text/plain": [
       "Text(0, 0.5, 'Proporción de usuarios')"
      ]
     },
     "execution_count": 24,
     "metadata": {},
     "output_type": "execute_result"
    },
    {
     "data": {
      "image/png": "[encoded data removed]",
      "text/plain": [
       "<Figure size 1500x500 with 1 Axes>"
      ]
     },
     "metadata": {},
     "output_type": "display_data"
    }
   ],
   "source": [
    "# Ajustar tamaño del gráfico \n",
    "plt.figure(figsize=(15,5))\n",
    "# Crear título \n",
    "plt.title('Proporciones de usuarios que pasan a la siguiente etapa')\n",
    "# Crear gráfico de barras\n",
    "sns.set_style('darkgrid')\n",
    "sns.barplot(x = ['Página Principal a Página de Ofertas', 'Página de Ofertas a Página del Carrito', 'Página del Carrito a Página de Pago Realizado'], y=[main_to_offer,offer_to_cart,cart_to_payment], palette=\"Blues\")\n",
    "# Poner título a los ejes \n",
    "plt.xlabel('Etapas del embudo')\n",
    "plt.ylabel('Proporción de usuarios')\n"
   ]
  },
  {
   "cell_type": "markdown",
   "metadata": {},
   "source": [
    "### ¿En qué etapa se pierden más usuarios y usuarias?\n",
    "Con los resultados obtenidos podemos concluir que el problema de retención esta en la primera etapa del embudo, que toma a los usuarios en la página principal y los manda a la página con las ofertas, esta etapa tiene el porcentaje más bajo de todas con un 61.91% de usuarios que vienen de la página principal, resolver esto puede significar mejores números para la tienda ya que las últimas dos etapas que trabajan directamente con las ventas tienen muy buenos porcentajes de retención de usuarios. "
   ]
  },
  {
   "cell_type": "markdown",
   "metadata": {},
   "source": [
    "## ¿Qué porcentaje de usuarios y usuarias hace todo el viaje desde su primer evento hasta el pago?"
   ]
  },
  {
   "cell_type": "code",
   "execution_count": 25,
   "metadata": {},
   "outputs": [
    {
     "name": "stdout",
     "output_type": "stream",
     "text": [
      "Porcentaje de usuarios y usuarias que completaron todo el recorrido: 47.7%\n"
     ]
    }
   ],
   "source": [
    "full_filter_user = ((filtered_events[filtered_events['event_name']=='PaymentScreenSuccessful']['user_id'].nunique()) / (filtered_events[filtered_events['event_name'] == 'MainScreenAppear']['user_id'].nunique())) * 100\n",
    "full_filter_user = full_filter_user.__round__(2)\n",
    "print(f'Porcentaje de usuarios y usuarias que completaron todo el recorrido: {full_filter_user}%')"
   ]
  },
  {
   "cell_type": "markdown",
   "metadata": {},
   "source": [
    "# Estudiar los resultados del experimento "
   ]
  },
  {
   "cell_type": "markdown",
   "metadata": {},
   "source": [
    "## ¿Cuántos usuarios y usuarias hay en cada grupo?\n",
    "Para contestar esto se utilizará una tabla que se realizó anteriormente cuando se excluyeron los datos más antiguos, donde agrupamos los diferentes grupos con la cantidad de usuarios y usuarias únicos en cada uno"
   ]
  },
  {
   "cell_type": "code",
   "execution_count": 26,
   "metadata": {},
   "outputs": [
    {
     "data": {
      "text/html": [
       "<div>\n",
       "<style scoped>\n",
       "    .dataframe tbody tr th:only-of-type {\n",
       "        vertical-align: middle;\n",
       "    }\n",
       "\n",
       "    .dataframe tbody tr th {\n",
       "        vertical-align: top;\n",
       "    }\n",
       "\n",
       "    .dataframe thead th {\n",
       "        text-align: right;\n",
       "    }\n",
       "</style>\n",
       "<table border=\"1\" class=\"dataframe\">\n",
       "  <thead>\n",
       "    <tr style=\"text-align: right;\">\n",
       "      <th></th>\n",
       "      <th>group</th>\n",
       "      <th>user_id</th>\n",
       "    </tr>\n",
       "  </thead>\n",
       "  <tbody>\n",
       "    <tr>\n",
       "      <th>0</th>\n",
       "      <td>246</td>\n",
       "      <td>2484</td>\n",
       "    </tr>\n",
       "    <tr>\n",
       "      <th>1</th>\n",
       "      <td>247</td>\n",
       "      <td>2513</td>\n",
       "    </tr>\n",
       "    <tr>\n",
       "      <th>2</th>\n",
       "      <td>248</td>\n",
       "      <td>2537</td>\n",
       "    </tr>\n",
       "  </tbody>\n",
       "</table>\n",
       "</div>"
      ],
      "text/plain": [
       "  group  user_id\n",
       "0   246     2484\n",
       "1   247     2513\n",
       "2   248     2537"
      ]
     },
     "execution_count": 26,
     "metadata": {},
     "output_type": "execute_result"
    }
   ],
   "source": [
    "users_per_group"
   ]
  },
  {
   "cell_type": "markdown",
   "metadata": {},
   "source": [
    "Se observan cantidades similares de usuarios para cada grupo, pero no terminan de ser 100% iguales, se tendría que estudiar si hay una diferencia estadísticamente significativa entre las muestras"
   ]
  },
  {
   "cell_type": "markdown",
   "metadata": {},
   "source": [
    "## Comprobar diferencia estadísticamente significativa entre los grupos de control "
   ]
  },
  {
   "cell_type": "code",
   "execution_count": 27,
   "metadata": {},
   "outputs": [],
   "source": [
    "# Filtar el df principal por los 3 grupos diferentes\n",
    "group_246 = filtered_events[filtered_events['group'] == '246']\n",
    "group_247 = filtered_events[filtered_events['group'] == '247']\n",
    "group_248 = filtered_events[filtered_events['group'] == '248']"
   ]
  },
  {
   "cell_type": "code",
   "execution_count": 28,
   "metadata": {},
   "outputs": [],
   "source": [
    "events_by_user_246 = group_246.groupby('user_id', as_index=False).agg({'event_name':pd.Series.nunique})\n",
    "events_by_user_246.rename(columns=({'event_name':'total_events'}), inplace=True)\n",
    "\n",
    "events_by_user_247 = group_247.groupby('user_id', as_index=False).agg({'event_name':pd.Series.nunique})\n",
    "events_by_user_247.rename(columns=({'event_name':'total_events'}), inplace=True)\n",
    "\n",
    "events_by_user_248 = group_248.groupby('user_id', as_index=False).agg({'event_name':pd.Series.nunique})\n",
    "events_by_user_248.rename(columns=({'event_name':'total_events'}), inplace=True)"
   ]
  },
  {
   "cell_type": "code",
   "execution_count": 29,
   "metadata": {},
   "outputs": [],
   "source": [
    "# Crear muestra para el grupo 246\n",
    "sample_246 = pd.concat(\n",
    "    [\n",
    "        events_by_user_246['total_events'],\n",
    "        pd.Series(\n",
    "            0,\n",
    "            index=np.arange(\n",
    "                group_246['user_id'].nunique()\n",
    "                - len(events_by_user_246['total_events'])\n",
    "            ),\n",
    "            name = 'events'\n",
    "        ),\n",
    "    ],\n",
    "    axis=0,\n",
    ")\n",
    "\n",
    "# Crear muestra para el grupo 247\n",
    "sample_247 = pd.concat(\n",
    "    [\n",
    "        events_by_user_247['total_events'],\n",
    "        pd.Series(\n",
    "            0,\n",
    "            index=np.arange(\n",
    "                group_247['user_id'].nunique()\n",
    "                - len(events_by_user_247['total_events'])\n",
    "            ),\n",
    "            name = 'events'\n",
    "        ),\n",
    "    ],\n",
    "    axis=0,\n",
    ")\n",
    "\n",
    "# Crear muestra para el grupo 248 \n",
    "sample_248 = pd.concat(\n",
    "    [\n",
    "        events_by_user_248['total_events'],\n",
    "        pd.Series(\n",
    "            0,\n",
    "            index=np.arange(\n",
    "                group_248['user_id'].nunique()\n",
    "                - len(events_by_user_248['total_events'])\n",
    "            ),\n",
    "            name = 'events'\n",
    "        ),\n",
    "    ],\n",
    "    axis=0,\n",
    ")\n"
   ]
  },
  {
   "cell_type": "code",
   "execution_count": 30,
   "metadata": {},
   "outputs": [
    {
     "name": "stdout",
     "output_type": "stream",
     "text": [
      "0.17554\n"
     ]
    }
   ],
   "source": [
    "# Comprobar si hay una duferencia estadísticamente significativa \n",
    "print('{0:.5f}'.format(st.mannwhitneyu(sample_246, sample_247)[1]))"
   ]
  },
  {
   "cell_type": "markdown",
   "metadata": {},
   "source": [
    "## Seleccionar el evento más popular en cada grupo de control, con la cantidad de usuarios y usuarias que hay por evento. Encontrar la proporción"
   ]
  },
  {
   "cell_type": "code",
   "execution_count": 31,
   "metadata": {},
   "outputs": [
    {
     "name": "stderr",
     "output_type": "stream",
     "text": [
      "C:\\Users\\User\\AppData\\Local\\Temp\\ipykernel_19844\\387962519.py:2: FutureWarning:\n",
      "\n",
      "The default of observed=False is deprecated and will be changed to True in a future version of pandas. Pass observed=False to retain current behavior or observed=True to adopt the future default and silence this warning.\n",
      "\n",
      "C:\\Users\\User\\AppData\\Local\\Temp\\ipykernel_19844\\387962519.py:2: FutureWarning:\n",
      "\n",
      "The default of observed=False is deprecated and will be changed to True in a future version of pandas. Pass observed=False to retain current behavior or observed=True to adopt the future default and silence this warning.\n",
      "\n",
      "C:\\Users\\User\\AppData\\Local\\Temp\\ipykernel_19844\\387962519.py:2: FutureWarning:\n",
      "\n",
      "The default of observed=False is deprecated and will be changed to True in a future version of pandas. Pass observed=False to retain current behavior or observed=True to adopt the future default and silence this warning.\n",
      "\n"
     ]
    }
   ],
   "source": [
    "def top_events(df):\n",
    "    top_events = df.groupby('event_name',as_index=False).agg({'user_id':pd.Series.nunique}).sort_values(by='user_id', ascending=False)\n",
    "    top_events['%_proportion'] = (top_events['user_id'] / df['user_id'].nunique()) * 100\n",
    "    top_events['%_proportion'] = top_events['%_proportion'].round(2)\n",
    "\n",
    "    return top_events\n",
    "\n",
    "top_events_246,top_events_247, top_events_248 = top_events(group_246), top_events(group_247), top_events(group_248)"
   ]
  },
  {
   "cell_type": "markdown",
   "metadata": {},
   "source": [
    "## Comprobar si la diferencia entre los grupos es estadísticamnete significativa "
   ]
  },
  {
   "cell_type": "code",
   "execution_count": 37,
   "metadata": {},
   "outputs": [],
   "source": [
    "\n",
    "from statsmodels.stats.proportion import proportions_ztest\n",
    "\n",
    "def test(df_1,df_2,previous_event,event):\n",
    "    total1 = df_1[df_1['event_name'] == previous_event]['user_id'].iloc[0]\n",
    "    successes1 = df_1[df_1['event_name'] == event]['user_id'].iloc[0]\n",
    "    \n",
    "    total2 = df_2[df_2['event_name'] == previous_event]['user_id'].iloc[0]\n",
    "    successes2 = df_2[df_2['event_name'] == event]['user_id'].iloc[0]\n",
    "    \n",
    "    z_stat, p_value = proportions_ztest([successes1,successes2],[total1,total2])\n",
    "    # Determinar si hay una diferencia estadísticamente significativa\n",
    "    if p_value < 0.05:\n",
    "        result = f\"Hay una diferencia estadísticamente significativa entre los grupos para el evento '{event}'.\"\n",
    "    else:\n",
    "        result = f\"No hay evidencia suficiente para afirmar que hay una diferencia estadísticamente significativa entre los grupos para el evento '{event}'.\"\n",
    "\n",
    "    return result"
   ]
  },
  {
   "cell_type": "markdown",
   "metadata": {},
   "source": [
    "### Resultados de la prueba "
   ]
  },
  {
   "cell_type": "code",
   "execution_count": 41,
   "metadata": {},
   "outputs": [
    {
     "name": "stdout",
     "output_type": "stream",
     "text": [
      "Resultado de la prueba para el primer evento: \n",
      " No hay evidencia suficiente para afirmar que hay una diferencia estadísticamente significativa entre los grupos para el evento 'OffersScreenAppear'.\n",
      "\n",
      "Resultado de la prueba para el primer evento: \n",
      " No hay evidencia suficiente para afirmar que hay una diferencia estadísticamente significativa entre los grupos para el evento 'CartScreenAppear'.\n",
      "\n",
      "Resultado de la prueba para el primer evento: \n",
      " No hay evidencia suficiente para afirmar que hay una diferencia estadísticamente significativa entre los grupos para el evento 'PaymentScreenSuccessful'.\n"
     ]
    }
   ],
   "source": [
    "print(f'Resultado de la prueba para el primer evento: \\n {test(top_events_246,top_events_247,\"MainScreenAppear\",\"OffersScreenAppear\")}')\n",
    "print()\n",
    "print(f'Resultado de la prueba para el primer evento: \\n {test(top_events_246,top_events_247,\"OffersScreenAppear\",\"CartScreenAppear\")}')\n",
    "print()\n",
    "print(f'Resultado de la prueba para el primer evento: \\n {test(top_events_246,top_events_247,\"CartScreenAppear\",\"PaymentScreenSuccessful\")}')"
   ]
  },
  {
   "cell_type": "markdown",
   "metadata": {},
   "source": [
    "## Hacer lo mismo para el grupo con fuentes alteradas. Compara los resultados con los de cada uno de los grupos de control para cada evento de forma aislada. Compara los resultados con los resultados combinados de los grupos de control. "
   ]
  },
  {
   "cell_type": "markdown",
   "metadata": {},
   "source": [
    "Ya que nos pide realizar la prueba para el grupo con las fuentes alteradas con los resultados combinados de los grupos de control, se debe crear una variable que guarde los eventos de ambos grupos de control y así sacar los eventos más populares."
   ]
  },
  {
   "cell_type": "markdown",
   "metadata": {},
   "source": [
    "## Crear df de grupos de control combinados "
   ]
  },
  {
   "cell_type": "code",
   "execution_count": 34,
   "metadata": {},
   "outputs": [
    {
     "name": "stderr",
     "output_type": "stream",
     "text": [
      "C:\\Users\\User\\AppData\\Local\\Temp\\ipykernel_19844\\387962519.py:2: FutureWarning:\n",
      "\n",
      "The default of observed=False is deprecated and will be changed to True in a future version of pandas. Pass observed=False to retain current behavior or observed=True to adopt the future default and silence this warning.\n",
      "\n"
     ]
    }
   ],
   "source": [
    "# Crear un df combinando ambos grupos de control \n",
    "control_groups = filtered_events[(filtered_events['group'] == '246') | (filtered_events['group'] == '247')]\n",
    "# Calcular los eventos más populares de los grupos de control combinados\n",
    "# Utilizar la función 'top_events' creada anteriormente \n",
    "top_events_control_groups = top_events(control_groups)"
   ]
  },
  {
   "cell_type": "markdown",
   "metadata": {},
   "source": [
    "## Grupo 246 vs 248"
   ]
  },
  {
   "cell_type": "code",
   "execution_count": 42,
   "metadata": {},
   "outputs": [
    {
     "name": "stdout",
     "output_type": "stream",
     "text": [
      "Resultado de la prueba para el primer evento: \n",
      " No hay evidencia suficiente para afirmar que hay una diferencia estadísticamente significativa entre los grupos para el evento 'OffersScreenAppear'.\n",
      "\n",
      "Resultado de la prueba para el primer evento: \n",
      " No hay evidencia suficiente para afirmar que hay una diferencia estadísticamente significativa entre los grupos para el evento 'CartScreenAppear'.\n",
      "\n",
      "Resultado de la prueba para el primer evento: \n",
      " No hay evidencia suficiente para afirmar que hay una diferencia estadísticamente significativa entre los grupos para el evento 'PaymentScreenSuccessful'.\n"
     ]
    }
   ],
   "source": [
    "print(f'Resultado de la prueba para el primer evento: \\n {test(top_events_246,top_events_248,\"MainScreenAppear\",\"OffersScreenAppear\")}')\n",
    "print()\n",
    "print(f'Resultado de la prueba para el primer evento: \\n {test(top_events_246,top_events_248,\"OffersScreenAppear\",\"CartScreenAppear\")}')\n",
    "print()\n",
    "print(f'Resultado de la prueba para el primer evento: \\n {test(top_events_246,top_events_248,\"CartScreenAppear\",\"PaymentScreenSuccessful\")}')"
   ]
  },
  {
   "cell_type": "markdown",
   "metadata": {},
   "source": [
    "## Grupo 247 vs 248"
   ]
  },
  {
   "cell_type": "code",
   "execution_count": 43,
   "metadata": {},
   "outputs": [
    {
     "name": "stdout",
     "output_type": "stream",
     "text": [
      "Resultado de la prueba para el primer evento: \n",
      " No hay evidencia suficiente para afirmar que hay una diferencia estadísticamente significativa entre los grupos para el evento 'OffersScreenAppear'.\n",
      "\n",
      "Resultado de la prueba para el primer evento: \n",
      " No hay evidencia suficiente para afirmar que hay una diferencia estadísticamente significativa entre los grupos para el evento 'CartScreenAppear'.\n",
      "\n",
      "Resultado de la prueba para el primer evento: \n",
      " Hay una diferencia estadísticamente significativa entre los grupos para el evento 'PaymentScreenSuccessful'.\n"
     ]
    }
   ],
   "source": [
    "print(f'Resultado de la prueba para el primer evento: \\n {test(top_events_247,top_events_248,\"MainScreenAppear\",\"OffersScreenAppear\")}')\n",
    "print()\n",
    "print(f'Resultado de la prueba para el primer evento: \\n {test(top_events_247,top_events_248,\"OffersScreenAppear\",\"CartScreenAppear\")}')\n",
    "print()\n",
    "print(f'Resultado de la prueba para el primer evento: \\n {test(top_events_247,top_events_248,\"CartScreenAppear\",\"PaymentScreenSuccessful\")}')"
   ]
  },
  {
   "cell_type": "markdown",
   "metadata": {},
   "source": [
    "## Realizar prueba para el grupo de fuentes alteradas con los grupos de control combinados "
   ]
  },
  {
   "cell_type": "code",
   "execution_count": 45,
   "metadata": {},
   "outputs": [
    {
     "name": "stdout",
     "output_type": "stream",
     "text": [
      "Resultado de la prueba para el primer evento: \n",
      " No hay evidencia suficiente para afirmar que hay una diferencia estadísticamente significativa entre los grupos para el evento 'OffersScreenAppear'.\n",
      "\n",
      "Resultado de la prueba para el primer evento: \n",
      " No hay evidencia suficiente para afirmar que hay una diferencia estadísticamente significativa entre los grupos para el evento 'CartScreenAppear'.\n",
      "\n",
      "Resultado de la prueba para el primer evento: \n",
      " Hay una diferencia estadísticamente significativa entre los grupos para el evento 'PaymentScreenSuccessful'.\n"
     ]
    }
   ],
   "source": [
    "print(f'Resultado de la prueba para el primer evento: \\n {test(top_events_control_groups,top_events_248,\"MainScreenAppear\",\"OffersScreenAppear\")}')\n",
    "print()\n",
    "print(f'Resultado de la prueba para el primer evento: \\n {test(top_events_control_groups,top_events_248,\"OffersScreenAppear\",\"CartScreenAppear\")}')\n",
    "print()\n",
    "print(f'Resultado de la prueba para el primer evento: \\n {test(top_events_control_groups,top_events_248,\"CartScreenAppear\",\"PaymentScreenSuccessful\")}')"
   ]
  },
  {
   "cell_type": "markdown",
   "metadata": {},
   "source": [
    "<div class=\"alert alert-block alert-danger\">\n",
    "\n",
    "# Comentarios generales\n",
    "<b>Comentario del revisor</b> <a class=\"tocSkip\"></a>\n",
    "    \n",
    "Parece ser que se borraron los comentarios de la última revisión. Nos hacen falta algunos elementos en estas pruebas:\n",
    "    \n",
    "1. Dada la lectura realizada sobre el evento `Tutorial`, no es necesario incluirlo en las pruebas.\n",
    "2. No es necesario tampoco incluir el primer evento ya que allí se encuentran todas las personas.\n",
    "3. Debemos realizar cuatro comparaciones (246 vs. 247, 246 vs. 248, 247 vs. 248 y 246 + 247 vs. 248).\n",
    "4. Al ser cuatro comparaciones y tres transiciones, tendremos 12 pruebas. Estas pruebas deben ser de diferencia de proporciones. Podrías construirla tu mismo revisando la teoría de sprints anteriores o haciendo uso de la librería `statsmodels`.\n",
    "5. Actualiza tus resultados y conclusiones a partir de lo sugerido.\n",
    "</div>"
   ]
  },
  {
   "cell_type": "markdown",
   "metadata": {},
   "source": [
    "# Conclusión General \n",
    "Todos los grupos se ven correctos, no hay evidencia para decir que existe una diferencia estadísticamente significativa entre todos, es decir, se han distribuido bien los 3 grupos para la prueba A/A/B. El evento más popular es el mismo para todos los eventos y es el correspondiente a la Página Principal. \n",
    "\n",
    "La secuencia más popular entre los grupos comienza con la Página Principal, luego la Página de las Ofertas, seguida de la Página del Carrito y por último la Página de Pago Exitoso y esta secuencia le da forma al embudo. El tutorial es el evento con menos frecuencia, menos usuarios registrados, lo que implica que la página web está bien optimizada y organizada, lo que significa que los usuarios nuevos no tienen problemas al navegar por las páginas y por eso no necesitan del tutorial.\n",
    "\n",
    "Respecto al embudo, la parte más eficiente es la que lleva de la Página del Carrito hacia la Página de Pago Exitoso, siendo un 94.78% de los usuarios que pasan del carrito al pago. Pero el problema está en la parte principal del embudo que va de la Página Principal hacia las Ofertas y esta parte debería ser la parte a enfocarse para mejorar los resultados, ya concluimos que la página no muestra un problema en cuanto a la interacción con el usuario ya que el tutorial no es tan necesitado, talvez podría ser cuestiones de mejorar y agregar diseños que capten más la atención de los usuarios, así como mejorar las estrategias de promoción de los productos. "
   ]
  }
 ],
 "metadata": {
  "kernelspec": {
   "display_name": "Python 3",
   "language": "python",
   "name": "python3"
  },
  "language_info": {
   "codemirror_mode": {
    "name": "ipython",
    "version": 3
   },
   "file_extension": ".py",
   "mimetype": "text/x-python",
   "name": "python",
   "nbconvert_exporter": "python",
   "pygments_lexer": "ipython3",
   "version": "3.12.0"
  }
 },
 "nbformat": 4,
 "nbformat_minor": 2
}
